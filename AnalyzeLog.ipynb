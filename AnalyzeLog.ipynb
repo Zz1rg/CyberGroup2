{
 "cells": [
  {
   "cell_type": "code",
   "execution_count": 1,
   "id": "9d2ae18b",
   "metadata": {},
   "outputs": [],
   "source": [
    "import pandas as pd \n",
    "from datetime import datetime\n",
    "import numpy as np"
   ]
  },
  {
   "cell_type": "markdown",
   "id": "8eefaa7d",
   "metadata": {},
   "source": [
    "# Prep data"
   ]
  },
  {
   "cell_type": "code",
   "execution_count": 2,
   "id": "ef04ea3d",
   "metadata": {},
   "outputs": [],
   "source": [
    "df =pd.read_csv('synthetic_honeynet_logs.csv')"
   ]
  },
  {
   "cell_type": "code",
   "execution_count": 3,
   "id": "19123bdc",
   "metadata": {},
   "outputs": [
    {
     "data": {
      "text/html": [
       "<div>\n",
       "<style scoped>\n",
       "    .dataframe tbody tr th:only-of-type {\n",
       "        vertical-align: middle;\n",
       "    }\n",
       "\n",
       "    .dataframe tbody tr th {\n",
       "        vertical-align: top;\n",
       "    }\n",
       "\n",
       "    .dataframe thead th {\n",
       "        text-align: right;\n",
       "    }\n",
       "</style>\n",
       "<table border=\"1\" class=\"dataframe\">\n",
       "  <thead>\n",
       "    <tr style=\"text-align: right;\">\n",
       "      <th></th>\n",
       "      <th>timestamp</th>\n",
       "      <th>log_type</th>\n",
       "      <th>client_ip</th>\n",
       "      <th>event</th>\n",
       "    </tr>\n",
       "  </thead>\n",
       "  <tbody>\n",
       "    <tr>\n",
       "      <th>0</th>\n",
       "      <td>2025-03-29T12:19:00Z</td>\n",
       "      <td>auth</td>\n",
       "      <td>192.168.1.11</td>\n",
       "      <td>Accepted password for root from 192.168.1.11 p...</td>\n",
       "    </tr>\n",
       "    <tr>\n",
       "      <th>1</th>\n",
       "      <td>2025-03-29T10:46:00Z</td>\n",
       "      <td>access</td>\n",
       "      <td>192.168.1.11</td>\n",
       "      <td>GET /config.php HTTP/1.1 - 403</td>\n",
       "    </tr>\n",
       "    <tr>\n",
       "      <th>2</th>\n",
       "      <td>2025-03-29T12:13:00Z</td>\n",
       "      <td>cron</td>\n",
       "      <td>203.0.113.5</td>\n",
       "      <td>CRON job started: wget malicious.sh</td>\n",
       "    </tr>\n",
       "    <tr>\n",
       "      <th>3</th>\n",
       "      <td>2025-03-29T12:38:00Z</td>\n",
       "      <td>cron</td>\n",
       "      <td>203.0.113.5</td>\n",
       "      <td>CRON executed reverse_shell.py</td>\n",
       "    </tr>\n",
       "    <tr>\n",
       "      <th>4</th>\n",
       "      <td>2025-03-29T12:38:00Z</td>\n",
       "      <td>access</td>\n",
       "      <td>192.168.1.10</td>\n",
       "      <td>GET /admin HTTP/1.1 - 403</td>\n",
       "    </tr>\n",
       "  </tbody>\n",
       "</table>\n",
       "</div>"
      ],
      "text/plain": [
       "              timestamp log_type     client_ip  \\\n",
       "0  2025-03-29T12:19:00Z     auth  192.168.1.11   \n",
       "1  2025-03-29T10:46:00Z   access  192.168.1.11   \n",
       "2  2025-03-29T12:13:00Z     cron   203.0.113.5   \n",
       "3  2025-03-29T12:38:00Z     cron   203.0.113.5   \n",
       "4  2025-03-29T12:38:00Z   access  192.168.1.10   \n",
       "\n",
       "                                               event  \n",
       "0  Accepted password for root from 192.168.1.11 p...  \n",
       "1                     GET /config.php HTTP/1.1 - 403  \n",
       "2                CRON job started: wget malicious.sh  \n",
       "3                     CRON executed reverse_shell.py  \n",
       "4                          GET /admin HTTP/1.1 - 403  "
      ]
     },
     "execution_count": 3,
     "metadata": {},
     "output_type": "execute_result"
    }
   ],
   "source": [
    "df.head()"
   ]
  },
  {
   "cell_type": "code",
   "execution_count": 4,
   "id": "856d01f5",
   "metadata": {},
   "outputs": [],
   "source": [
    "df['timestamp'] = pd.to_datetime(df['timestamp'])"
   ]
  },
  {
   "cell_type": "code",
   "execution_count": 5,
   "id": "cbced1dc",
   "metadata": {},
   "outputs": [
    {
     "data": {
      "text/html": [
       "<div>\n",
       "<style scoped>\n",
       "    .dataframe tbody tr th:only-of-type {\n",
       "        vertical-align: middle;\n",
       "    }\n",
       "\n",
       "    .dataframe tbody tr th {\n",
       "        vertical-align: top;\n",
       "    }\n",
       "\n",
       "    .dataframe thead th {\n",
       "        text-align: right;\n",
       "    }\n",
       "</style>\n",
       "<table border=\"1\" class=\"dataframe\">\n",
       "  <thead>\n",
       "    <tr style=\"text-align: right;\">\n",
       "      <th></th>\n",
       "      <th>timestamp</th>\n",
       "      <th>log_type</th>\n",
       "      <th>client_ip</th>\n",
       "      <th>event</th>\n",
       "    </tr>\n",
       "  </thead>\n",
       "  <tbody>\n",
       "    <tr>\n",
       "      <th>0</th>\n",
       "      <td>2025-03-29 12:19:00+00:00</td>\n",
       "      <td>auth</td>\n",
       "      <td>192.168.1.11</td>\n",
       "      <td>Accepted password for root from 192.168.1.11 p...</td>\n",
       "    </tr>\n",
       "    <tr>\n",
       "      <th>1</th>\n",
       "      <td>2025-03-29 10:46:00+00:00</td>\n",
       "      <td>access</td>\n",
       "      <td>192.168.1.11</td>\n",
       "      <td>GET /config.php HTTP/1.1 - 403</td>\n",
       "    </tr>\n",
       "    <tr>\n",
       "      <th>2</th>\n",
       "      <td>2025-03-29 12:13:00+00:00</td>\n",
       "      <td>cron</td>\n",
       "      <td>203.0.113.5</td>\n",
       "      <td>CRON job started: wget malicious.sh</td>\n",
       "    </tr>\n",
       "    <tr>\n",
       "      <th>3</th>\n",
       "      <td>2025-03-29 12:38:00+00:00</td>\n",
       "      <td>cron</td>\n",
       "      <td>203.0.113.5</td>\n",
       "      <td>CRON executed reverse_shell.py</td>\n",
       "    </tr>\n",
       "    <tr>\n",
       "      <th>4</th>\n",
       "      <td>2025-03-29 12:38:00+00:00</td>\n",
       "      <td>access</td>\n",
       "      <td>192.168.1.10</td>\n",
       "      <td>GET /admin HTTP/1.1 - 403</td>\n",
       "    </tr>\n",
       "  </tbody>\n",
       "</table>\n",
       "</div>"
      ],
      "text/plain": [
       "                  timestamp log_type     client_ip  \\\n",
       "0 2025-03-29 12:19:00+00:00     auth  192.168.1.11   \n",
       "1 2025-03-29 10:46:00+00:00   access  192.168.1.11   \n",
       "2 2025-03-29 12:13:00+00:00     cron   203.0.113.5   \n",
       "3 2025-03-29 12:38:00+00:00     cron   203.0.113.5   \n",
       "4 2025-03-29 12:38:00+00:00   access  192.168.1.10   \n",
       "\n",
       "                                               event  \n",
       "0  Accepted password for root from 192.168.1.11 p...  \n",
       "1                     GET /config.php HTTP/1.1 - 403  \n",
       "2                CRON job started: wget malicious.sh  \n",
       "3                     CRON executed reverse_shell.py  \n",
       "4                          GET /admin HTTP/1.1 - 403  "
      ]
     },
     "execution_count": 5,
     "metadata": {},
     "output_type": "execute_result"
    }
   ],
   "source": [
    "df.head()"
   ]
  },
  {
   "cell_type": "code",
   "execution_count": 6,
   "id": "1a13838d",
   "metadata": {},
   "outputs": [],
   "source": [
    "df['date'] = df['timestamp'].dt.date\n",
    "df['time'] = df['timestamp'].dt.time"
   ]
  },
  {
   "cell_type": "code",
   "execution_count": 7,
   "id": "56ab55fc",
   "metadata": {},
   "outputs": [
    {
     "data": {
      "text/html": [
       "<div>\n",
       "<style scoped>\n",
       "    .dataframe tbody tr th:only-of-type {\n",
       "        vertical-align: middle;\n",
       "    }\n",
       "\n",
       "    .dataframe tbody tr th {\n",
       "        vertical-align: top;\n",
       "    }\n",
       "\n",
       "    .dataframe thead th {\n",
       "        text-align: right;\n",
       "    }\n",
       "</style>\n",
       "<table border=\"1\" class=\"dataframe\">\n",
       "  <thead>\n",
       "    <tr style=\"text-align: right;\">\n",
       "      <th></th>\n",
       "      <th>timestamp</th>\n",
       "      <th>log_type</th>\n",
       "      <th>client_ip</th>\n",
       "      <th>event</th>\n",
       "      <th>date</th>\n",
       "      <th>time</th>\n",
       "    </tr>\n",
       "  </thead>\n",
       "  <tbody>\n",
       "    <tr>\n",
       "      <th>0</th>\n",
       "      <td>2025-03-29 12:19:00+00:00</td>\n",
       "      <td>auth</td>\n",
       "      <td>192.168.1.11</td>\n",
       "      <td>Accepted password for root from 192.168.1.11 p...</td>\n",
       "      <td>2025-03-29</td>\n",
       "      <td>12:19:00</td>\n",
       "    </tr>\n",
       "    <tr>\n",
       "      <th>1</th>\n",
       "      <td>2025-03-29 10:46:00+00:00</td>\n",
       "      <td>access</td>\n",
       "      <td>192.168.1.11</td>\n",
       "      <td>GET /config.php HTTP/1.1 - 403</td>\n",
       "      <td>2025-03-29</td>\n",
       "      <td>10:46:00</td>\n",
       "    </tr>\n",
       "    <tr>\n",
       "      <th>2</th>\n",
       "      <td>2025-03-29 12:13:00+00:00</td>\n",
       "      <td>cron</td>\n",
       "      <td>203.0.113.5</td>\n",
       "      <td>CRON job started: wget malicious.sh</td>\n",
       "      <td>2025-03-29</td>\n",
       "      <td>12:13:00</td>\n",
       "    </tr>\n",
       "    <tr>\n",
       "      <th>3</th>\n",
       "      <td>2025-03-29 12:38:00+00:00</td>\n",
       "      <td>cron</td>\n",
       "      <td>203.0.113.5</td>\n",
       "      <td>CRON executed reverse_shell.py</td>\n",
       "      <td>2025-03-29</td>\n",
       "      <td>12:38:00</td>\n",
       "    </tr>\n",
       "    <tr>\n",
       "      <th>4</th>\n",
       "      <td>2025-03-29 12:38:00+00:00</td>\n",
       "      <td>access</td>\n",
       "      <td>192.168.1.10</td>\n",
       "      <td>GET /admin HTTP/1.1 - 403</td>\n",
       "      <td>2025-03-29</td>\n",
       "      <td>12:38:00</td>\n",
       "    </tr>\n",
       "  </tbody>\n",
       "</table>\n",
       "</div>"
      ],
      "text/plain": [
       "                  timestamp log_type     client_ip  \\\n",
       "0 2025-03-29 12:19:00+00:00     auth  192.168.1.11   \n",
       "1 2025-03-29 10:46:00+00:00   access  192.168.1.11   \n",
       "2 2025-03-29 12:13:00+00:00     cron   203.0.113.5   \n",
       "3 2025-03-29 12:38:00+00:00     cron   203.0.113.5   \n",
       "4 2025-03-29 12:38:00+00:00   access  192.168.1.10   \n",
       "\n",
       "                                               event        date      time  \n",
       "0  Accepted password for root from 192.168.1.11 p...  2025-03-29  12:19:00  \n",
       "1                     GET /config.php HTTP/1.1 - 403  2025-03-29  10:46:00  \n",
       "2                CRON job started: wget malicious.sh  2025-03-29  12:13:00  \n",
       "3                     CRON executed reverse_shell.py  2025-03-29  12:38:00  \n",
       "4                          GET /admin HTTP/1.1 - 403  2025-03-29  12:38:00  "
      ]
     },
     "execution_count": 7,
     "metadata": {},
     "output_type": "execute_result"
    }
   ],
   "source": [
    "df.head()"
   ]
  },
  {
   "cell_type": "markdown",
   "id": "9633c349",
   "metadata": {},
   "source": [
    "# Checking Informations"
   ]
  },
  {
   "cell_type": "code",
   "execution_count": 8,
   "id": "4e29bb96",
   "metadata": {},
   "outputs": [
    {
     "data": {
      "text/plain": [
       "array(['auth', 'access', 'cron'], dtype=object)"
      ]
     },
     "execution_count": 8,
     "metadata": {},
     "output_type": "execute_result"
    }
   ],
   "source": [
    "df['log_type'].unique()"
   ]
  },
  {
   "cell_type": "code",
   "execution_count": 9,
   "id": "914039f4",
   "metadata": {},
   "outputs": [
    {
     "data": {
      "text/plain": [
       "array(['Accepted password for root from 192.168.1.11 port 54321 ssh2',\n",
       "       'GET /config.php HTTP/1.1 - 403',\n",
       "       'CRON job started: wget malicious.sh',\n",
       "       'CRON executed reverse_shell.py', 'GET /admin HTTP/1.1 - 403',\n",
       "       'POST /login.php HTTP/1.1 - 200',\n",
       "       'new user: name=attacker, UID=1001, GID=1001',\n",
       "       'Failed password for invalid user admin from 203.0.113.5 port 45678 ssh2',\n",
       "       'CRON job added by attacker', 'GET /index.html HTTP/1.1 - 200',\n",
       "       'Accepted password for root from 203.0.113.5 port 54321 ssh2',\n",
       "       'Failed password for invalid user admin from 192.168.1.10 port 45678 ssh2',\n",
       "       'Accepted password for root from 192.168.1.10 port 54321 ssh2',\n",
       "       'Failed password for invalid user admin from 192.168.1.11 port 45678 ssh2',\n",
       "       'GET /phpmyadmin/ HTTP/1.1 - 404',\n",
       "       'Failed password for invalid user admin from 10.0.0.8 port 45678 ssh2'],\n",
       "      dtype=object)"
      ]
     },
     "execution_count": 9,
     "metadata": {},
     "output_type": "execute_result"
    }
   ],
   "source": [
    "df['event'].unique()"
   ]
  },
  {
   "cell_type": "code",
   "execution_count": 10,
   "id": "c949746c",
   "metadata": {},
   "outputs": [
    {
     "data": {
      "text/plain": [
       "array(['192.168.1.11', '203.0.113.5', '192.168.1.10', '10.0.0.8'],\n",
       "      dtype=object)"
      ]
     },
     "execution_count": 10,
     "metadata": {},
     "output_type": "execute_result"
    }
   ],
   "source": [
    "df['client_ip'].unique()"
   ]
  },
  {
   "cell_type": "code",
   "execution_count": 11,
   "id": "22ebdda3",
   "metadata": {},
   "outputs": [
    {
     "data": {
      "text/plain": [
       "1"
      ]
     },
     "execution_count": 11,
     "metadata": {},
     "output_type": "execute_result"
    }
   ],
   "source": [
    "df['date'].nunique()"
   ]
  },
  {
   "cell_type": "code",
   "execution_count": 12,
   "id": "b67144dc",
   "metadata": {},
   "outputs": [],
   "source": [
    "group_df = df.groupby(['date', 'client_ip']).agg({'event': 'count'}).reset_index()\n",
    "group_df.columns = ['date', 'client_ip', 'event_count']"
   ]
  },
  {
   "cell_type": "code",
   "execution_count": 13,
   "id": "28f01fe3",
   "metadata": {},
   "outputs": [
    {
     "data": {
      "text/html": [
       "<div>\n",
       "<style scoped>\n",
       "    .dataframe tbody tr th:only-of-type {\n",
       "        vertical-align: middle;\n",
       "    }\n",
       "\n",
       "    .dataframe tbody tr th {\n",
       "        vertical-align: top;\n",
       "    }\n",
       "\n",
       "    .dataframe thead th {\n",
       "        text-align: right;\n",
       "    }\n",
       "</style>\n",
       "<table border=\"1\" class=\"dataframe\">\n",
       "  <thead>\n",
       "    <tr style=\"text-align: right;\">\n",
       "      <th></th>\n",
       "      <th>date</th>\n",
       "      <th>client_ip</th>\n",
       "      <th>event_count</th>\n",
       "    </tr>\n",
       "  </thead>\n",
       "  <tbody>\n",
       "    <tr>\n",
       "      <th>0</th>\n",
       "      <td>2025-03-29</td>\n",
       "      <td>10.0.0.8</td>\n",
       "      <td>21</td>\n",
       "    </tr>\n",
       "    <tr>\n",
       "      <th>1</th>\n",
       "      <td>2025-03-29</td>\n",
       "      <td>192.168.1.10</td>\n",
       "      <td>30</td>\n",
       "    </tr>\n",
       "    <tr>\n",
       "      <th>2</th>\n",
       "      <td>2025-03-29</td>\n",
       "      <td>192.168.1.11</td>\n",
       "      <td>22</td>\n",
       "    </tr>\n",
       "    <tr>\n",
       "      <th>3</th>\n",
       "      <td>2025-03-29</td>\n",
       "      <td>203.0.113.5</td>\n",
       "      <td>27</td>\n",
       "    </tr>\n",
       "  </tbody>\n",
       "</table>\n",
       "</div>"
      ],
      "text/plain": [
       "         date     client_ip  event_count\n",
       "0  2025-03-29      10.0.0.8           21\n",
       "1  2025-03-29  192.168.1.10           30\n",
       "2  2025-03-29  192.168.1.11           22\n",
       "3  2025-03-29   203.0.113.5           27"
      ]
     },
     "execution_count": 13,
     "metadata": {},
     "output_type": "execute_result"
    }
   ],
   "source": [
    "group_df"
   ]
  },
  {
   "cell_type": "markdown",
   "id": "25e769ba",
   "metadata": {},
   "source": [
    "# IP 192.168.1.11 Logs"
   ]
  },
  {
   "cell_type": "code",
   "execution_count": 14,
   "id": "8521c225",
   "metadata": {},
   "outputs": [
    {
     "data": {
      "text/plain": [
       "['Accepted password for root from 192.168.1.11 port 54321 ssh2',\n",
       " 'Failed password for invalid user admin from 192.168.1.11 port 45678 ssh2',\n",
       " 'Failed password for invalid user admin from 192.168.1.11 port 45678 ssh2',\n",
       " 'Accepted password for root from 192.168.1.11 port 54321 ssh2',\n",
       " 'new user: name=attacker, UID=1001, GID=1001',\n",
       " 'Accepted password for root from 192.168.1.11 port 54321 ssh2',\n",
       " 'new user: name=attacker, UID=1001, GID=1001']"
      ]
     },
     "execution_count": 14,
     "metadata": {},
     "output_type": "execute_result"
    }
   ],
   "source": [
    "df[(df['client_ip'] == '192.168.1.11') & (df['log_type'] == 'auth')]['event'].to_list()"
   ]
  },
  {
   "cell_type": "code",
   "execution_count": 15,
   "id": "8beadc7d",
   "metadata": {},
   "outputs": [
    {
     "data": {
      "text/plain": [
       "['GET /config.php HTTP/1.1 - 403',\n",
       " 'GET /index.html HTTP/1.1 - 200',\n",
       " 'GET /config.php HTTP/1.1 - 403',\n",
       " 'GET /admin HTTP/1.1 - 403',\n",
       " 'GET /phpmyadmin/ HTTP/1.1 - 404',\n",
       " 'GET /index.html HTTP/1.1 - 200',\n",
       " 'GET /phpmyadmin/ HTTP/1.1 - 404']"
      ]
     },
     "execution_count": 15,
     "metadata": {},
     "output_type": "execute_result"
    }
   ],
   "source": [
    "df[(df['client_ip'] == '192.168.1.11') & (df['log_type'] == 'access')]['event'].to_list()"
   ]
  },
  {
   "cell_type": "code",
   "execution_count": 16,
   "id": "322a01d1",
   "metadata": {},
   "outputs": [
    {
     "data": {
      "text/plain": [
       "['CRON job added by attacker',\n",
       " 'CRON executed reverse_shell.py',\n",
       " 'CRON job added by attacker',\n",
       " 'CRON executed reverse_shell.py',\n",
       " 'CRON job started: wget malicious.sh',\n",
       " 'CRON job started: wget malicious.sh',\n",
       " 'CRON executed reverse_shell.py',\n",
       " 'CRON job started: wget malicious.sh']"
      ]
     },
     "execution_count": 16,
     "metadata": {},
     "output_type": "execute_result"
    }
   ],
   "source": [
    "df[(df['client_ip'] == '192.168.1.11') & (df['log_type'] == 'cron')]['event'].to_list()"
   ]
  },
  {
   "cell_type": "markdown",
   "id": "8ef14695",
   "metadata": {},
   "source": [
    "# IP 203.0.113.5 Logs"
   ]
  },
  {
   "cell_type": "code",
   "execution_count": 17,
   "id": "1b8b4c16",
   "metadata": {},
   "outputs": [
    {
     "data": {
      "text/plain": [
       "['Failed password for invalid user admin from 203.0.113.5 port 45678 ssh2',\n",
       " 'Accepted password for root from 203.0.113.5 port 54321 ssh2',\n",
       " 'new user: name=attacker, UID=1001, GID=1001',\n",
       " 'Failed password for invalid user admin from 203.0.113.5 port 45678 ssh2',\n",
       " 'new user: name=attacker, UID=1001, GID=1001',\n",
       " 'Accepted password for root from 203.0.113.5 port 54321 ssh2',\n",
       " 'Failed password for invalid user admin from 203.0.113.5 port 45678 ssh2',\n",
       " 'Failed password for invalid user admin from 203.0.113.5 port 45678 ssh2',\n",
       " 'Failed password for invalid user admin from 203.0.113.5 port 45678 ssh2',\n",
       " 'Accepted password for root from 203.0.113.5 port 54321 ssh2']"
      ]
     },
     "execution_count": 17,
     "metadata": {},
     "output_type": "execute_result"
    }
   ],
   "source": [
    "df[(df['client_ip'] == '203.0.113.5') & (df['log_type'] == 'auth')]['event'].to_list()"
   ]
  },
  {
   "cell_type": "markdown",
   "id": "d296b13d",
   "metadata": {},
   "source": [
    "# IP 192.168.1.10 Logs"
   ]
  },
  {
   "cell_type": "code",
   "execution_count": 18,
   "id": "9c661977",
   "metadata": {},
   "outputs": [
    {
     "data": {
      "text/html": [
       "<div>\n",
       "<style scoped>\n",
       "    .dataframe tbody tr th:only-of-type {\n",
       "        vertical-align: middle;\n",
       "    }\n",
       "\n",
       "    .dataframe tbody tr th {\n",
       "        vertical-align: top;\n",
       "    }\n",
       "\n",
       "    .dataframe thead th {\n",
       "        text-align: right;\n",
       "    }\n",
       "</style>\n",
       "<table border=\"1\" class=\"dataframe\">\n",
       "  <thead>\n",
       "    <tr style=\"text-align: right;\">\n",
       "      <th></th>\n",
       "      <th>timestamp</th>\n",
       "      <th>log_type</th>\n",
       "      <th>client_ip</th>\n",
       "      <th>event</th>\n",
       "      <th>date</th>\n",
       "      <th>time</th>\n",
       "    </tr>\n",
       "  </thead>\n",
       "  <tbody>\n",
       "    <tr>\n",
       "      <th>13</th>\n",
       "      <td>2025-03-29 11:35:00+00:00</td>\n",
       "      <td>cron</td>\n",
       "      <td>192.168.1.10</td>\n",
       "      <td>CRON job added by attacker</td>\n",
       "      <td>2025-03-29</td>\n",
       "      <td>11:35:00</td>\n",
       "    </tr>\n",
       "    <tr>\n",
       "      <th>22</th>\n",
       "      <td>2025-03-29 12:47:00+00:00</td>\n",
       "      <td>cron</td>\n",
       "      <td>192.168.1.10</td>\n",
       "      <td>CRON job started: wget malicious.sh</td>\n",
       "      <td>2025-03-29</td>\n",
       "      <td>12:47:00</td>\n",
       "    </tr>\n",
       "    <tr>\n",
       "      <th>23</th>\n",
       "      <td>2025-03-29 10:00:00+00:00</td>\n",
       "      <td>cron</td>\n",
       "      <td>192.168.1.10</td>\n",
       "      <td>CRON job started: wget malicious.sh</td>\n",
       "      <td>2025-03-29</td>\n",
       "      <td>10:00:00</td>\n",
       "    </tr>\n",
       "    <tr>\n",
       "      <th>54</th>\n",
       "      <td>2025-03-29 10:02:00+00:00</td>\n",
       "      <td>cron</td>\n",
       "      <td>192.168.1.10</td>\n",
       "      <td>CRON job added by attacker</td>\n",
       "      <td>2025-03-29</td>\n",
       "      <td>10:02:00</td>\n",
       "    </tr>\n",
       "    <tr>\n",
       "      <th>57</th>\n",
       "      <td>2025-03-29 11:29:00+00:00</td>\n",
       "      <td>cron</td>\n",
       "      <td>192.168.1.10</td>\n",
       "      <td>CRON executed reverse_shell.py</td>\n",
       "      <td>2025-03-29</td>\n",
       "      <td>11:29:00</td>\n",
       "    </tr>\n",
       "    <tr>\n",
       "      <th>72</th>\n",
       "      <td>2025-03-29 10:37:00+00:00</td>\n",
       "      <td>cron</td>\n",
       "      <td>192.168.1.10</td>\n",
       "      <td>CRON job started: wget malicious.sh</td>\n",
       "      <td>2025-03-29</td>\n",
       "      <td>10:37:00</td>\n",
       "    </tr>\n",
       "  </tbody>\n",
       "</table>\n",
       "</div>"
      ],
      "text/plain": [
       "                   timestamp log_type     client_ip  \\\n",
       "13 2025-03-29 11:35:00+00:00     cron  192.168.1.10   \n",
       "22 2025-03-29 12:47:00+00:00     cron  192.168.1.10   \n",
       "23 2025-03-29 10:00:00+00:00     cron  192.168.1.10   \n",
       "54 2025-03-29 10:02:00+00:00     cron  192.168.1.10   \n",
       "57 2025-03-29 11:29:00+00:00     cron  192.168.1.10   \n",
       "72 2025-03-29 10:37:00+00:00     cron  192.168.1.10   \n",
       "\n",
       "                                  event        date      time  \n",
       "13           CRON job added by attacker  2025-03-29  11:35:00  \n",
       "22  CRON job started: wget malicious.sh  2025-03-29  12:47:00  \n",
       "23  CRON job started: wget malicious.sh  2025-03-29  10:00:00  \n",
       "54           CRON job added by attacker  2025-03-29  10:02:00  \n",
       "57       CRON executed reverse_shell.py  2025-03-29  11:29:00  \n",
       "72  CRON job started: wget malicious.sh  2025-03-29  10:37:00  "
      ]
     },
     "execution_count": 18,
     "metadata": {},
     "output_type": "execute_result"
    }
   ],
   "source": [
    "df[(df['client_ip'] == '192.168.1.10') & (df['log_type'] == 'cron')]"
   ]
  },
  {
   "cell_type": "markdown",
   "id": "0a55d18c",
   "metadata": {},
   "source": [
    "# IP 10.0.0.8 Logs"
   ]
  },
  {
   "cell_type": "code",
   "execution_count": 19,
   "id": "116c3f33",
   "metadata": {},
   "outputs": [
    {
     "data": {
      "text/html": [
       "<div>\n",
       "<style scoped>\n",
       "    .dataframe tbody tr th:only-of-type {\n",
       "        vertical-align: middle;\n",
       "    }\n",
       "\n",
       "    .dataframe tbody tr th {\n",
       "        vertical-align: top;\n",
       "    }\n",
       "\n",
       "    .dataframe thead th {\n",
       "        text-align: right;\n",
       "    }\n",
       "</style>\n",
       "<table border=\"1\" class=\"dataframe\">\n",
       "  <thead>\n",
       "    <tr style=\"text-align: right;\">\n",
       "      <th></th>\n",
       "      <th>timestamp</th>\n",
       "      <th>log_type</th>\n",
       "      <th>client_ip</th>\n",
       "      <th>event</th>\n",
       "      <th>date</th>\n",
       "      <th>time</th>\n",
       "    </tr>\n",
       "  </thead>\n",
       "  <tbody>\n",
       "    <tr>\n",
       "      <th>26</th>\n",
       "      <td>2025-03-29 10:59:00+00:00</td>\n",
       "      <td>cron</td>\n",
       "      <td>10.0.0.8</td>\n",
       "      <td>CRON job started: wget malicious.sh</td>\n",
       "      <td>2025-03-29</td>\n",
       "      <td>10:59:00</td>\n",
       "    </tr>\n",
       "    <tr>\n",
       "      <th>36</th>\n",
       "      <td>2025-03-29 10:14:00+00:00</td>\n",
       "      <td>cron</td>\n",
       "      <td>10.0.0.8</td>\n",
       "      <td>CRON job added by attacker</td>\n",
       "      <td>2025-03-29</td>\n",
       "      <td>10:14:00</td>\n",
       "    </tr>\n",
       "    <tr>\n",
       "      <th>43</th>\n",
       "      <td>2025-03-29 10:15:00+00:00</td>\n",
       "      <td>cron</td>\n",
       "      <td>10.0.0.8</td>\n",
       "      <td>CRON executed reverse_shell.py</td>\n",
       "      <td>2025-03-29</td>\n",
       "      <td>10:15:00</td>\n",
       "    </tr>\n",
       "    <tr>\n",
       "      <th>52</th>\n",
       "      <td>2025-03-29 11:35:00+00:00</td>\n",
       "      <td>cron</td>\n",
       "      <td>10.0.0.8</td>\n",
       "      <td>CRON executed reverse_shell.py</td>\n",
       "      <td>2025-03-29</td>\n",
       "      <td>11:35:00</td>\n",
       "    </tr>\n",
       "    <tr>\n",
       "      <th>55</th>\n",
       "      <td>2025-03-29 12:45:00+00:00</td>\n",
       "      <td>cron</td>\n",
       "      <td>10.0.0.8</td>\n",
       "      <td>CRON job added by attacker</td>\n",
       "      <td>2025-03-29</td>\n",
       "      <td>12:45:00</td>\n",
       "    </tr>\n",
       "    <tr>\n",
       "      <th>60</th>\n",
       "      <td>2025-03-29 12:12:00+00:00</td>\n",
       "      <td>cron</td>\n",
       "      <td>10.0.0.8</td>\n",
       "      <td>CRON job added by attacker</td>\n",
       "      <td>2025-03-29</td>\n",
       "      <td>12:12:00</td>\n",
       "    </tr>\n",
       "    <tr>\n",
       "      <th>76</th>\n",
       "      <td>2025-03-29 10:05:00+00:00</td>\n",
       "      <td>cron</td>\n",
       "      <td>10.0.0.8</td>\n",
       "      <td>CRON job started: wget malicious.sh</td>\n",
       "      <td>2025-03-29</td>\n",
       "      <td>10:05:00</td>\n",
       "    </tr>\n",
       "  </tbody>\n",
       "</table>\n",
       "</div>"
      ],
      "text/plain": [
       "                   timestamp log_type client_ip  \\\n",
       "26 2025-03-29 10:59:00+00:00     cron  10.0.0.8   \n",
       "36 2025-03-29 10:14:00+00:00     cron  10.0.0.8   \n",
       "43 2025-03-29 10:15:00+00:00     cron  10.0.0.8   \n",
       "52 2025-03-29 11:35:00+00:00     cron  10.0.0.8   \n",
       "55 2025-03-29 12:45:00+00:00     cron  10.0.0.8   \n",
       "60 2025-03-29 12:12:00+00:00     cron  10.0.0.8   \n",
       "76 2025-03-29 10:05:00+00:00     cron  10.0.0.8   \n",
       "\n",
       "                                  event        date      time  \n",
       "26  CRON job started: wget malicious.sh  2025-03-29  10:59:00  \n",
       "36           CRON job added by attacker  2025-03-29  10:14:00  \n",
       "43       CRON executed reverse_shell.py  2025-03-29  10:15:00  \n",
       "52       CRON executed reverse_shell.py  2025-03-29  11:35:00  \n",
       "55           CRON job added by attacker  2025-03-29  12:45:00  \n",
       "60           CRON job added by attacker  2025-03-29  12:12:00  \n",
       "76  CRON job started: wget malicious.sh  2025-03-29  10:05:00  "
      ]
     },
     "execution_count": 19,
     "metadata": {},
     "output_type": "execute_result"
    }
   ],
   "source": [
    "df[(df['client_ip'] == '10.0.0.8') & (df['log_type'] == 'cron')]"
   ]
  }
 ],
 "metadata": {
  "kernelspec": {
   "display_name": "base",
   "language": "python",
   "name": "python3"
  },
  "language_info": {
   "codemirror_mode": {
    "name": "ipython",
    "version": 3
   },
   "file_extension": ".py",
   "mimetype": "text/x-python",
   "name": "python",
   "nbconvert_exporter": "python",
   "pygments_lexer": "ipython3",
   "version": "3.12.4"
  }
 },
 "nbformat": 4,
 "nbformat_minor": 5
}
